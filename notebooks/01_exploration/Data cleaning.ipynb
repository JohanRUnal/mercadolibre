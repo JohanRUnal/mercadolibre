{
 "cells": [
  {
   "cell_type": "markdown",
   "id": "thermal-vacation",
   "metadata": {},
   "source": [
    "# Introduction\n",
    "\n",
    "Lets start our pipeline by making a data cleaning to the data collected from mercadolibre API (MELI), and some tasks relative to **data wrangling**. Some ot those tasks are:\n",
    "- convert prices to a unify currency like(usd)\n",
    "- extract useful info from columns like \"tags\""
   ]
  },
  {
   "cell_type": "code",
   "execution_count": 4,
   "id": "racial-stanley",
   "metadata": {},
   "outputs": [],
   "source": [
    "import sys\n",
    "sys.path.insert(0,'../..')"
   ]
  },
  {
   "cell_type": "code",
   "execution_count": 5,
   "id": "integrated-collectible",
   "metadata": {},
   "outputs": [],
   "source": [
    "# Loading relevant libraries\n",
    "import pandas as pd\n",
    "import numpy as np\n",
    "import time\n",
    "import matplotlib.pyplot as plt\n",
    "from scipy.stats import norm\n",
    "import seaborn as sns\n",
    "import json\n",
    "from utils import *"
   ]
  },
  {
   "cell_type": "markdown",
   "id": "labeled-energy",
   "metadata": {},
   "source": [
    "### Data collection:\n",
    "\n",
    "Lets get the data from the MELI API."
   ]
  },
  {
   "cell_type": "code",
   "execution_count": 6,
   "id": "north-tribe",
   "metadata": {},
   "outputs": [
    {
     "data": {
      "text/plain": [
       "WindowsPath('C:/Users/JohanR/Documents/proyectos/mercadolibre')"
      ]
     },
     "execution_count": 6,
     "metadata": {},
     "output_type": "execute_result"
    }
   ],
   "source": [
    "DIR"
   ]
  },
  {
   "cell_type": "code",
   "execution_count": 55,
   "id": "broke-highland",
   "metadata": {},
   "outputs": [],
   "source": [
    "# dictionary with categories per country\n",
    "with open('../../data/01_raw/categories_dict.json') as f:\n",
    "    categories_dict = json.load(f)"
   ]
  },
  {
   "cell_type": "code",
   "execution_count": 57,
   "id": "professional-multiple",
   "metadata": {},
   "outputs": [],
   "source": [
    "#run the function to get the data from MELI API\n",
    "#get_data_by_category(categories_dict)"
   ]
  },
  {
   "cell_type": "markdown",
   "id": "likely-poland",
   "metadata": {},
   "source": [
    "### Loading the raw data"
   ]
  },
  {
   "cell_type": "code",
   "execution_count": 29,
   "id": "arabic-cargo",
   "metadata": {},
   "outputs": [
    {
     "data": {
      "text/html": [
       "<div>\n",
       "<style scoped>\n",
       "    .dataframe tbody tr th:only-of-type {\n",
       "        vertical-align: middle;\n",
       "    }\n",
       "\n",
       "    .dataframe tbody tr th {\n",
       "        vertical-align: top;\n",
       "    }\n",
       "\n",
       "    .dataframe thead th {\n",
       "        text-align: right;\n",
       "    }\n",
       "</style>\n",
       "<table border=\"1\" class=\"dataframe\">\n",
       "  <thead>\n",
       "    <tr style=\"text-align: right;\">\n",
       "      <th></th>\n",
       "      <th>post_id</th>\n",
       "      <th>user_id</th>\n",
       "      <th>country</th>\n",
       "      <th>city</th>\n",
       "      <th>category_name</th>\n",
       "      <th>product</th>\n",
       "      <th>price</th>\n",
       "      <th>original_price</th>\n",
       "      <th>available_quantity</th>\n",
       "      <th>sold_quantity</th>\n",
       "      <th>condition</th>\n",
       "      <th>accepts_mercadopago</th>\n",
       "      <th>shipping_state</th>\n",
       "      <th>tags</th>\n",
       "    </tr>\n",
       "  </thead>\n",
       "  <tbody>\n",
       "    <tr>\n",
       "      <th>11675</th>\n",
       "      <td>MLU451270637</td>\n",
       "      <td>237853243</td>\n",
       "      <td>Uruguay</td>\n",
       "      <td>Goes</td>\n",
       "      <td>Deportes y Fitness</td>\n",
       "      <td>Quemador De Grasa L Carnitina Liquida Star Nut...</td>\n",
       "      <td>990.0</td>\n",
       "      <td>NaN</td>\n",
       "      <td>500</td>\n",
       "      <td>250</td>\n",
       "      <td>new</td>\n",
       "      <td>True</td>\n",
       "      <td>False</td>\n",
       "      <td>['good_quality_picture', 'good_quality_thumbna...</td>\n",
       "    </tr>\n",
       "    <tr>\n",
       "      <th>1017</th>\n",
       "      <td>MCO583027685</td>\n",
       "      <td>599455763</td>\n",
       "      <td>Colombia</td>\n",
       "      <td>Cartagena De Indias</td>\n",
       "      <td>Accesorios para Vehículos</td>\n",
       "      <td>Racor 500 Fg Equivalente Filtro De Combustible...</td>\n",
       "      <td>259990.0</td>\n",
       "      <td>NaN</td>\n",
       "      <td>1</td>\n",
       "      <td>5</td>\n",
       "      <td>new</td>\n",
       "      <td>True</td>\n",
       "      <td>True</td>\n",
       "      <td>['good_quality_picture', 'good_quality_thumbna...</td>\n",
       "    </tr>\n",
       "    <tr>\n",
       "      <th>16006</th>\n",
       "      <td>MLU474477457</td>\n",
       "      <td>190075836</td>\n",
       "      <td>Uruguay</td>\n",
       "      <td>Unión</td>\n",
       "      <td>Servicios</td>\n",
       "      <td>Alquiler Omnibus Micro Traslados Excurciones P...</td>\n",
       "      <td>NaN</td>\n",
       "      <td>NaN</td>\n",
       "      <td>1</td>\n",
       "      <td>0</td>\n",
       "      <td>NaN</td>\n",
       "      <td>False</td>\n",
       "      <td>False</td>\n",
       "      <td>['dragged_visits', 'good_quality_picture']</td>\n",
       "    </tr>\n",
       "  </tbody>\n",
       "</table>\n",
       "</div>"
      ],
      "text/plain": [
       "            post_id    user_id   country                 city  \\\n",
       "11675  MLU451270637  237853243   Uruguay                 Goes   \n",
       "1017   MCO583027685  599455763  Colombia  Cartagena De Indias   \n",
       "16006  MLU474477457  190075836   Uruguay                Unión   \n",
       "\n",
       "                   category_name  \\\n",
       "11675         Deportes y Fitness   \n",
       "1017   Accesorios para Vehículos   \n",
       "16006                  Servicios   \n",
       "\n",
       "                                                 product     price  \\\n",
       "11675  Quemador De Grasa L Carnitina Liquida Star Nut...     990.0   \n",
       "1017   Racor 500 Fg Equivalente Filtro De Combustible...  259990.0   \n",
       "16006  Alquiler Omnibus Micro Traslados Excurciones P...       NaN   \n",
       "\n",
       "       original_price  available_quantity  sold_quantity condition  \\\n",
       "11675             NaN                 500            250       new   \n",
       "1017              NaN                   1              5       new   \n",
       "16006             NaN                   1              0       NaN   \n",
       "\n",
       "       accepts_mercadopago  shipping_state  \\\n",
       "11675                 True           False   \n",
       "1017                  True            True   \n",
       "16006                False           False   \n",
       "\n",
       "                                                    tags  \n",
       "11675  ['good_quality_picture', 'good_quality_thumbna...  \n",
       "1017   ['good_quality_picture', 'good_quality_thumbna...  \n",
       "16006         ['dragged_visits', 'good_quality_picture']  "
      ]
     },
     "execution_count": 29,
     "metadata": {},
     "output_type": "execute_result"
    }
   ],
   "source": [
    "raw_data = pd.read_csv('../../data/01_raw/meli_data.csv',index_col=0)\n",
    "raw_data.drop(columns='order_backend',inplace=True)\n",
    "# Lets take a look of some records of raw data\n",
    "raw_data.sample(3)"
   ]
  },
  {
   "cell_type": "code",
   "execution_count": 30,
   "id": "latin-context",
   "metadata": {},
   "outputs": [
    {
     "name": "stdout",
     "output_type": "stream",
     "text": [
      "Shape of raw_data:\n",
      " (52265, 14)\n"
     ]
    }
   ],
   "source": [
    "# shape of datset\n",
    "print('Shape of raw_data:\\n',raw_data.shape)"
   ]
  },
  {
   "cell_type": "code",
   "execution_count": 31,
   "id": "further-seattle",
   "metadata": {},
   "outputs": [
    {
     "data": {
      "text/plain": [
       "Accesorios para Vehículos     5634\n",
       "Deportes y Fitness            4648\n",
       "Juegos y Juguetes             4415\n",
       "Libros, Revistas y Comics     4332\n",
       "Agro                          4034\n",
       "Computación                   3549\n",
       "Servicios                     3500\n",
       "Instrumentos Musicales        3200\n",
       "Electrónica, Audio y Video    2998\n",
       "Inmuebles                     2950\n",
       "Otras categorías              2599\n",
       "Consolas y Videojuegos        2449\n",
       "Autos, Motos y Otros          2400\n",
       "Celulares y Teléfonos         2094\n",
       "Joyas y Relojes               1650\n",
       "Música y Películas            1649\n",
       "Arte y Antigüedades            164\n",
       "Name: category_name, dtype: int64"
      ]
     },
     "execution_count": 31,
     "metadata": {},
     "output_type": "execute_result"
    }
   ],
   "source": [
    "# categories present in the dataset\n",
    "raw_data['category_name'].value_counts()"
   ]
  },
  {
   "cell_type": "code",
   "execution_count": 32,
   "id": "rising-academy",
   "metadata": {},
   "outputs": [
    {
     "data": {
      "text/html": [
       "<div>\n",
       "<style scoped>\n",
       "    .dataframe tbody tr th:only-of-type {\n",
       "        vertical-align: middle;\n",
       "    }\n",
       "\n",
       "    .dataframe tbody tr th {\n",
       "        vertical-align: top;\n",
       "    }\n",
       "\n",
       "    .dataframe thead th {\n",
       "        text-align: right;\n",
       "    }\n",
       "</style>\n",
       "<table border=\"1\" class=\"dataframe\">\n",
       "  <thead>\n",
       "    <tr style=\"text-align: right;\">\n",
       "      <th></th>\n",
       "      <th>post_id</th>\n",
       "      <th>user_id</th>\n",
       "      <th>country</th>\n",
       "      <th>city</th>\n",
       "      <th>category_name</th>\n",
       "      <th>product</th>\n",
       "      <th>price</th>\n",
       "      <th>original_price</th>\n",
       "      <th>available_quantity</th>\n",
       "      <th>sold_quantity</th>\n",
       "      <th>condition</th>\n",
       "      <th>accepts_mercadopago</th>\n",
       "      <th>shipping_state</th>\n",
       "      <th>tags</th>\n",
       "    </tr>\n",
       "  </thead>\n",
       "  <tbody>\n",
       "    <tr>\n",
       "      <th>8698</th>\n",
       "      <td>MCO580150997</td>\n",
       "      <td>22300563</td>\n",
       "      <td>Colombia</td>\n",
       "      <td>Madrid</td>\n",
       "      <td>Servicios</td>\n",
       "      <td>Alquiler De Vans Sin Conductor</td>\n",
       "      <td>400000.0</td>\n",
       "      <td>NaN</td>\n",
       "      <td>1</td>\n",
       "      <td>0</td>\n",
       "      <td>NaN</td>\n",
       "      <td>False</td>\n",
       "      <td>False</td>\n",
       "      <td>['dragged_visits']</td>\n",
       "    </tr>\n",
       "    <tr>\n",
       "      <th>8699</th>\n",
       "      <td>MCO580152287</td>\n",
       "      <td>22300563</td>\n",
       "      <td>Colombia</td>\n",
       "      <td>Madrid</td>\n",
       "      <td>Servicios</td>\n",
       "      <td>Alquiler De Vehículos Al Mejor Precio</td>\n",
       "      <td>125000.0</td>\n",
       "      <td>NaN</td>\n",
       "      <td>1</td>\n",
       "      <td>0</td>\n",
       "      <td>NaN</td>\n",
       "      <td>False</td>\n",
       "      <td>False</td>\n",
       "      <td>['dragged_visits']</td>\n",
       "    </tr>\n",
       "    <tr>\n",
       "      <th>8700</th>\n",
       "      <td>MCO574555437</td>\n",
       "      <td>236862201</td>\n",
       "      <td>Colombia</td>\n",
       "      <td>Ciudad Bolivar</td>\n",
       "      <td>Servicios</td>\n",
       "      <td>Cursos  Licencias De Conducción A2 Moto  B1 - ...</td>\n",
       "      <td>NaN</td>\n",
       "      <td>NaN</td>\n",
       "      <td>1</td>\n",
       "      <td>0</td>\n",
       "      <td>NaN</td>\n",
       "      <td>False</td>\n",
       "      <td>False</td>\n",
       "      <td>['dragged_visits']</td>\n",
       "    </tr>\n",
       "  </tbody>\n",
       "</table>\n",
       "</div>"
      ],
      "text/plain": [
       "           post_id    user_id   country            city category_name  \\\n",
       "8698  MCO580150997   22300563  Colombia          Madrid     Servicios   \n",
       "8699  MCO580152287   22300563  Colombia          Madrid     Servicios   \n",
       "8700  MCO574555437  236862201  Colombia  Ciudad Bolivar     Servicios   \n",
       "\n",
       "                                                product     price  \\\n",
       "8698                     Alquiler De Vans Sin Conductor  400000.0   \n",
       "8699              Alquiler De Vehículos Al Mejor Precio  125000.0   \n",
       "8700  Cursos  Licencias De Conducción A2 Moto  B1 - ...       NaN   \n",
       "\n",
       "      original_price  available_quantity  sold_quantity condition  \\\n",
       "8698             NaN                   1              0       NaN   \n",
       "8699             NaN                   1              0       NaN   \n",
       "8700             NaN                   1              0       NaN   \n",
       "\n",
       "      accepts_mercadopago  shipping_state                tags  \n",
       "8698                False           False  ['dragged_visits']  \n",
       "8699                False           False  ['dragged_visits']  \n",
       "8700                False           False  ['dragged_visits']  "
      ]
     },
     "execution_count": 32,
     "metadata": {},
     "output_type": "execute_result"
    }
   ],
   "source": [
    "# For the category \"Servicios\" some of the fields have no real sense like:\n",
    "# sold_quantity,avalaible_quantity,original_price,condition.\n",
    "\n",
    "raw_data[raw_data['category_name']=='Servicios'].head(3)"
   ]
  },
  {
   "cell_type": "code",
   "execution_count": 33,
   "id": "sophisticated-standard",
   "metadata": {},
   "outputs": [
    {
     "name": "stdout",
     "output_type": "stream",
     "text": [
      "Shape of data without servicios category:\n",
      " (48765, 14)\n"
     ]
    }
   ],
   "source": [
    "# discard the records with Servicio category.\n",
    "raw_datav2 = raw_data[raw_data['category_name']!='Servicios']\n",
    "raw_datav2\n",
    "print('Shape of data without servicios category:\\n',raw_datav2.shape)"
   ]
  },
  {
   "cell_type": "markdown",
   "id": "lonely-gasoline",
   "metadata": {},
   "source": [
    "## Data preprocessing\n",
    "\n",
    "Lets make some little changes in a couple of columns to get a better and useful dataset:\n",
    "- handle missing values\n",
    "- unify prices currency to usd\n",
    "- coding tag field\n",
    "- handle the product name field"
   ]
  },
  {
   "cell_type": "code",
   "execution_count": 34,
   "id": "eastern-hello",
   "metadata": {},
   "outputs": [
    {
     "data": {
      "text/plain": [
       "post_id                 object\n",
       "user_id                  int64\n",
       "country                 object\n",
       "city                    object\n",
       "category_name           object\n",
       "product                 object\n",
       "price                  float64\n",
       "original_price         float64\n",
       "available_quantity       int64\n",
       "sold_quantity            int64\n",
       "condition               object\n",
       "accepts_mercadopago       bool\n",
       "shipping_state            bool\n",
       "tags                    object\n",
       "dtype: object"
      ]
     },
     "execution_count": 34,
     "metadata": {},
     "output_type": "execute_result"
    }
   ],
   "source": [
    "# checking the types of data we have\n",
    "raw_datav2.dtypes"
   ]
  },
  {
   "cell_type": "code",
   "execution_count": 35,
   "id": "meaning-bearing",
   "metadata": {},
   "outputs": [
    {
     "data": {
      "text/plain": [
       "False    48743\n",
       "True        22\n",
       "dtype: int64"
      ]
     },
     "execution_count": 35,
     "metadata": {},
     "output_type": "execute_result"
    }
   ],
   "source": [
    "#duplicated records\n",
    "raw_datav2.iloc[:,:].duplicated().value_counts()"
   ]
  },
  {
   "cell_type": "code",
   "execution_count": 36,
   "id": "stone-science",
   "metadata": {},
   "outputs": [],
   "source": [
    "#raw_datav2[raw_datav2.duplicated()]"
   ]
  },
  {
   "cell_type": "markdown",
   "id": "distinguished-conversion",
   "metadata": {},
   "source": [
    "### handling missing values"
   ]
  },
  {
   "cell_type": "code",
   "execution_count": 37,
   "id": "infectious-subdivision",
   "metadata": {},
   "outputs": [
    {
     "data": {
      "text/plain": [
       "post_id                False\n",
       "user_id                False\n",
       "country                False\n",
       "city                   False\n",
       "category_name          False\n",
       "product                False\n",
       "price                   True\n",
       "original_price          True\n",
       "available_quantity     False\n",
       "sold_quantity          False\n",
       "condition              False\n",
       "accepts_mercadopago    False\n",
       "shipping_state         False\n",
       "tags                   False\n",
       "dtype: bool"
      ]
     },
     "execution_count": 37,
     "metadata": {},
     "output_type": "execute_result"
    }
   ],
   "source": [
    "# lets see whats columns have missing or null values:\n",
    "# - price\n",
    "#- original_price\n",
    "\n",
    "raw_datav3 = raw_datav2.copy(deep=True)\n",
    "raw_datav3.isna().any()"
   ]
  },
  {
   "cell_type": "code",
   "execution_count": 38,
   "id": "lesser-course",
   "metadata": {},
   "outputs": [],
   "source": [
    "# complete the cases with original_price null with the current price field \n",
    "indx = raw_datav3[raw_datav3['original_price'].isna()==True].index\n",
    "# fill na with the current price value\n",
    "raw_datav3.loc[indx,'original_price']=raw_datav3.loc[indx,'price']"
   ]
  },
  {
   "cell_type": "code",
   "execution_count": 39,
   "id": "effective-collectible",
   "metadata": {},
   "outputs": [
    {
     "name": "stdout",
     "output_type": "stream",
     "text": [
      "records with na in price field:  14\n"
     ]
    },
    {
     "data": {
      "text/html": [
       "<div>\n",
       "<style scoped>\n",
       "    .dataframe tbody tr th:only-of-type {\n",
       "        vertical-align: middle;\n",
       "    }\n",
       "\n",
       "    .dataframe tbody tr th {\n",
       "        vertical-align: top;\n",
       "    }\n",
       "\n",
       "    .dataframe thead th {\n",
       "        text-align: right;\n",
       "    }\n",
       "</style>\n",
       "<table border=\"1\" class=\"dataframe\">\n",
       "  <thead>\n",
       "    <tr style=\"text-align: right;\">\n",
       "      <th></th>\n",
       "      <th>post_id</th>\n",
       "      <th>user_id</th>\n",
       "      <th>country</th>\n",
       "      <th>city</th>\n",
       "      <th>category_name</th>\n",
       "      <th>product</th>\n",
       "      <th>price</th>\n",
       "      <th>original_price</th>\n",
       "      <th>available_quantity</th>\n",
       "      <th>sold_quantity</th>\n",
       "      <th>condition</th>\n",
       "      <th>accepts_mercadopago</th>\n",
       "      <th>shipping_state</th>\n",
       "      <th>tags</th>\n",
       "    </tr>\n",
       "  </thead>\n",
       "  <tbody>\n",
       "    <tr>\n",
       "      <th>43947</th>\n",
       "      <td>MLV572718272</td>\n",
       "      <td>38480507</td>\n",
       "      <td>Venezuela</td>\n",
       "      <td>chacao</td>\n",
       "      <td>Inmuebles</td>\n",
       "      <td>Lomas De Chuao Extraordinaria Propiedad Con Vista</td>\n",
       "      <td>NaN</td>\n",
       "      <td>NaN</td>\n",
       "      <td>1</td>\n",
       "      <td>0</td>\n",
       "      <td>used</td>\n",
       "      <td>False</td>\n",
       "      <td>False</td>\n",
       "      <td>['dragged_visits', 'good_quality_picture']</td>\n",
       "    </tr>\n",
       "    <tr>\n",
       "      <th>43948</th>\n",
       "      <td>MLV572718485</td>\n",
       "      <td>38480507</td>\n",
       "      <td>Venezuela</td>\n",
       "      <td>chacao</td>\n",
       "      <td>Inmuebles</td>\n",
       "      <td>Bello Apartamento Listo Para Entrar San Bernar...</td>\n",
       "      <td>NaN</td>\n",
       "      <td>NaN</td>\n",
       "      <td>1</td>\n",
       "      <td>0</td>\n",
       "      <td>used</td>\n",
       "      <td>False</td>\n",
       "      <td>False</td>\n",
       "      <td>['dragged_visits', 'good_quality_picture']</td>\n",
       "    </tr>\n",
       "    <tr>\n",
       "      <th>43949</th>\n",
       "      <td>MLV570612245</td>\n",
       "      <td>38480507</td>\n",
       "      <td>Venezuela</td>\n",
       "      <td>chacao</td>\n",
       "      <td>Inmuebles</td>\n",
       "      <td>Bella Casa En Exclusivo Desarrollo En Caurimare</td>\n",
       "      <td>NaN</td>\n",
       "      <td>NaN</td>\n",
       "      <td>1</td>\n",
       "      <td>0</td>\n",
       "      <td>used</td>\n",
       "      <td>False</td>\n",
       "      <td>False</td>\n",
       "      <td>['good_quality_picture']</td>\n",
       "    </tr>\n",
       "  </tbody>\n",
       "</table>\n",
       "</div>"
      ],
      "text/plain": [
       "            post_id   user_id    country    city category_name  \\\n",
       "43947  MLV572718272  38480507  Venezuela  chacao     Inmuebles   \n",
       "43948  MLV572718485  38480507  Venezuela  chacao     Inmuebles   \n",
       "43949  MLV570612245  38480507  Venezuela  chacao     Inmuebles   \n",
       "\n",
       "                                                 product  price  \\\n",
       "43947  Lomas De Chuao Extraordinaria Propiedad Con Vista    NaN   \n",
       "43948  Bello Apartamento Listo Para Entrar San Bernar...    NaN   \n",
       "43949    Bella Casa En Exclusivo Desarrollo En Caurimare    NaN   \n",
       "\n",
       "       original_price  available_quantity  sold_quantity condition  \\\n",
       "43947             NaN                   1              0      used   \n",
       "43948             NaN                   1              0      used   \n",
       "43949             NaN                   1              0      used   \n",
       "\n",
       "       accepts_mercadopago  shipping_state  \\\n",
       "43947                False           False   \n",
       "43948                False           False   \n",
       "43949                False           False   \n",
       "\n",
       "                                             tags  \n",
       "43947  ['dragged_visits', 'good_quality_picture']  \n",
       "43948  ['dragged_visits', 'good_quality_picture']  \n",
       "43949                    ['good_quality_picture']  "
      ]
     },
     "execution_count": 39,
     "metadata": {},
     "output_type": "execute_result"
    }
   ],
   "source": [
    "# missing values in the field \"price\".\n",
    "print('records with na in price field: ',raw_datav3[raw_datav3['price'].isna()==True].shape[0])\n",
    "raw_datav3[raw_datav3['price'].isna()==True].head(3)"
   ]
  },
  {
   "cell_type": "code",
   "execution_count": 40,
   "id": "deluxe-filling",
   "metadata": {},
   "outputs": [
    {
     "name": "stdout",
     "output_type": "stream",
     "text": [
      "Shape the cleaner version of dataset:\n",
      " (48751, 14)\n"
     ]
    }
   ],
   "source": [
    "# Finally take off all the 14 cases with a null in price field.\n",
    "raw_datav3.dropna(inplace=True)\n",
    "print('Shape the cleaner version of dataset:\\n',raw_datav3.shape)"
   ]
  },
  {
   "cell_type": "code",
   "execution_count": 41,
   "id": "following-parcel",
   "metadata": {},
   "outputs": [],
   "source": [
    "# reset index for the dataset\n",
    "raw_datav3.reset_index(drop=True,inplace=True)"
   ]
  },
  {
   "cell_type": "markdown",
   "id": "through-dealer",
   "metadata": {},
   "source": [
    "### Change prices to usd"
   ]
  },
  {
   "cell_type": "code",
   "execution_count": 42,
   "id": "happy-advocate",
   "metadata": {},
   "outputs": [],
   "source": [
    "with open('../../data/01_raw/currency_ids.json') as f:\n",
    "    currency_ids = json.load(f)"
   ]
  },
  {
   "cell_type": "code",
   "execution_count": 43,
   "id": "sufficient-force",
   "metadata": {
    "scrolled": false
   },
   "outputs": [
    {
     "data": {
      "text/html": [
       "<div>\n",
       "<style scoped>\n",
       "    .dataframe tbody tr th:only-of-type {\n",
       "        vertical-align: middle;\n",
       "    }\n",
       "\n",
       "    .dataframe tbody tr th {\n",
       "        vertical-align: top;\n",
       "    }\n",
       "\n",
       "    .dataframe thead th {\n",
       "        text-align: right;\n",
       "    }\n",
       "</style>\n",
       "<table border=\"1\" class=\"dataframe\">\n",
       "  <thead>\n",
       "    <tr style=\"text-align: right;\">\n",
       "      <th></th>\n",
       "      <th>post_id</th>\n",
       "      <th>user_id</th>\n",
       "      <th>country</th>\n",
       "      <th>city</th>\n",
       "      <th>category_name</th>\n",
       "      <th>product</th>\n",
       "      <th>price</th>\n",
       "      <th>original_price</th>\n",
       "      <th>available_quantity</th>\n",
       "      <th>sold_quantity</th>\n",
       "      <th>condition</th>\n",
       "      <th>accepts_mercadopago</th>\n",
       "      <th>shipping_state</th>\n",
       "      <th>tags</th>\n",
       "    </tr>\n",
       "  </thead>\n",
       "  <tbody>\n",
       "    <tr>\n",
       "      <th>270</th>\n",
       "      <td>MCO560154251</td>\n",
       "      <td>114977753</td>\n",
       "      <td>Colombia</td>\n",
       "      <td>Bosa</td>\n",
       "      <td>Accesorios para Vehículos</td>\n",
       "      <td>Impermeable Para Moto  En Silicona- Garantía 6...</td>\n",
       "      <td>15.527175</td>\n",
       "      <td>15.527175</td>\n",
       "      <td>100</td>\n",
       "      <td>250</td>\n",
       "      <td>new</td>\n",
       "      <td>True</td>\n",
       "      <td>False</td>\n",
       "      <td>['good_quality_picture', 'good_quality_thumbna...</td>\n",
       "    </tr>\n",
       "    <tr>\n",
       "      <th>46801</th>\n",
       "      <td>MPE436452890</td>\n",
       "      <td>142186970</td>\n",
       "      <td>Perú</td>\n",
       "      <td>Lima</td>\n",
       "      <td>Instrumentos Musicales</td>\n",
       "      <td>Violín Cremona 4/4 Cervini Hv-100 Completo.arc...</td>\n",
       "      <td>123.439813</td>\n",
       "      <td>123.439813</td>\n",
       "      <td>1</td>\n",
       "      <td>5</td>\n",
       "      <td>new</td>\n",
       "      <td>True</td>\n",
       "      <td>False</td>\n",
       "      <td>['good_quality_picture', 'good_quality_thumbna...</td>\n",
       "    </tr>\n",
       "    <tr>\n",
       "      <th>20375</th>\n",
       "      <td>MLC541673882</td>\n",
       "      <td>429353192</td>\n",
       "      <td>Chile</td>\n",
       "      <td>Santiago</td>\n",
       "      <td>Accesorios para Vehículos</td>\n",
       "      <td>Funda Cubre Tapiz Auto 8 Pzs</td>\n",
       "      <td>36.795995</td>\n",
       "      <td>36.795995</td>\n",
       "      <td>1</td>\n",
       "      <td>100</td>\n",
       "      <td>new</td>\n",
       "      <td>True</td>\n",
       "      <td>True</td>\n",
       "      <td>['good_quality_picture', 'good_quality_thumbna...</td>\n",
       "    </tr>\n",
       "  </tbody>\n",
       "</table>\n",
       "</div>"
      ],
      "text/plain": [
       "            post_id    user_id   country      city              category_name  \\\n",
       "270    MCO560154251  114977753  Colombia      Bosa  Accesorios para Vehículos   \n",
       "46801  MPE436452890  142186970      Perú      Lima     Instrumentos Musicales   \n",
       "20375  MLC541673882  429353192     Chile  Santiago  Accesorios para Vehículos   \n",
       "\n",
       "                                                 product       price  \\\n",
       "270    Impermeable Para Moto  En Silicona- Garantía 6...   15.527175   \n",
       "46801  Violín Cremona 4/4 Cervini Hv-100 Completo.arc...  123.439813   \n",
       "20375                       Funda Cubre Tapiz Auto 8 Pzs   36.795995   \n",
       "\n",
       "       original_price  available_quantity  sold_quantity condition  \\\n",
       "270         15.527175                 100            250       new   \n",
       "46801      123.439813                   1              5       new   \n",
       "20375       36.795995                   1            100       new   \n",
       "\n",
       "       accepts_mercadopago  shipping_state  \\\n",
       "270                   True           False   \n",
       "46801                 True           False   \n",
       "20375                 True            True   \n",
       "\n",
       "                                                    tags  \n",
       "270    ['good_quality_picture', 'good_quality_thumbna...  \n",
       "46801  ['good_quality_picture', 'good_quality_thumbna...  \n",
       "20375  ['good_quality_picture', 'good_quality_thumbna...  "
      ]
     },
     "execution_count": 43,
     "metadata": {},
     "output_type": "execute_result"
    }
   ],
   "source": [
    "raw_datav3['price'] = currency_converter(currency_ids,raw_datav3['country'],raw_datav3['price'])\n",
    "raw_datav3['original_price']=currency_converter(currency_ids,raw_datav3['country'],raw_datav3['original_price'])\n",
    "raw_datav3.sample(3)"
   ]
  },
  {
   "cell_type": "markdown",
   "id": "worthy-spiritual",
   "metadata": {},
   "source": [
    "### Short product name extraction\n",
    "\n",
    "we are gonna create a short version of the product name taking into account that usually the first part of the product name give a relative good description."
   ]
  },
  {
   "cell_type": "code",
   "execution_count": 44,
   "id": "north-orleans",
   "metadata": {},
   "outputs": [],
   "source": [
    "raw_datav3['product'] = product_name_extractor(raw_datav3['product'])"
   ]
  },
  {
   "cell_type": "code",
   "execution_count": 45,
   "id": "coordinate-smith",
   "metadata": {},
   "outputs": [
    {
     "data": {
      "text/html": [
       "<div>\n",
       "<style scoped>\n",
       "    .dataframe tbody tr th:only-of-type {\n",
       "        vertical-align: middle;\n",
       "    }\n",
       "\n",
       "    .dataframe tbody tr th {\n",
       "        vertical-align: top;\n",
       "    }\n",
       "\n",
       "    .dataframe thead th {\n",
       "        text-align: right;\n",
       "    }\n",
       "</style>\n",
       "<table border=\"1\" class=\"dataframe\">\n",
       "  <thead>\n",
       "    <tr style=\"text-align: right;\">\n",
       "      <th></th>\n",
       "      <th>post_id</th>\n",
       "      <th>user_id</th>\n",
       "      <th>country</th>\n",
       "      <th>city</th>\n",
       "      <th>category_name</th>\n",
       "      <th>product</th>\n",
       "      <th>price</th>\n",
       "      <th>original_price</th>\n",
       "      <th>available_quantity</th>\n",
       "      <th>sold_quantity</th>\n",
       "      <th>condition</th>\n",
       "      <th>accepts_mercadopago</th>\n",
       "      <th>shipping_state</th>\n",
       "      <th>tags</th>\n",
       "    </tr>\n",
       "  </thead>\n",
       "  <tbody>\n",
       "    <tr>\n",
       "      <th>0</th>\n",
       "      <td>MCO548989931</td>\n",
       "      <td>145181776</td>\n",
       "      <td>Colombia</td>\n",
       "      <td>Medellín</td>\n",
       "      <td>Accesorios para Vehículos</td>\n",
       "      <td>Espejo</td>\n",
       "      <td>3.049981</td>\n",
       "      <td>3.049981</td>\n",
       "      <td>50</td>\n",
       "      <td>500</td>\n",
       "      <td>new</td>\n",
       "      <td>True</td>\n",
       "      <td>False</td>\n",
       "      <td>['good_quality_picture', 'good_quality_thumbna...</td>\n",
       "    </tr>\n",
       "    <tr>\n",
       "      <th>1</th>\n",
       "      <td>MCO508601525</td>\n",
       "      <td>152737872</td>\n",
       "      <td>Colombia</td>\n",
       "      <td>Kennedy</td>\n",
       "      <td>Accesorios para Vehículos</td>\n",
       "      <td>Forro</td>\n",
       "      <td>11.063112</td>\n",
       "      <td>11.063112</td>\n",
       "      <td>150</td>\n",
       "      <td>500</td>\n",
       "      <td>new</td>\n",
       "      <td>True</td>\n",
       "      <td>True</td>\n",
       "      <td>['good_quality_picture', 'good_quality_thumbna...</td>\n",
       "    </tr>\n",
       "    <tr>\n",
       "      <th>2</th>\n",
       "      <td>MCO509093160</td>\n",
       "      <td>212962423</td>\n",
       "      <td>Colombia</td>\n",
       "      <td>Cali</td>\n",
       "      <td>Accesorios para Vehículos</td>\n",
       "      <td>Radio</td>\n",
       "      <td>59.585535</td>\n",
       "      <td>59.585535</td>\n",
       "      <td>250</td>\n",
       "      <td>500</td>\n",
       "      <td>new</td>\n",
       "      <td>True</td>\n",
       "      <td>True</td>\n",
       "      <td>['good_quality_picture', 'good_quality_thumbna...</td>\n",
       "    </tr>\n",
       "  </tbody>\n",
       "</table>\n",
       "</div>"
      ],
      "text/plain": [
       "        post_id    user_id   country      city              category_name  \\\n",
       "0  MCO548989931  145181776  Colombia  Medellín  Accesorios para Vehículos   \n",
       "1  MCO508601525  152737872  Colombia   Kennedy  Accesorios para Vehículos   \n",
       "2  MCO509093160  212962423  Colombia      Cali  Accesorios para Vehículos   \n",
       "\n",
       "  product      price  original_price  available_quantity  sold_quantity  \\\n",
       "0  Espejo   3.049981        3.049981                  50            500   \n",
       "1   Forro  11.063112       11.063112                 150            500   \n",
       "2   Radio  59.585535       59.585535                 250            500   \n",
       "\n",
       "  condition  accepts_mercadopago  shipping_state  \\\n",
       "0       new                 True           False   \n",
       "1       new                 True            True   \n",
       "2       new                 True            True   \n",
       "\n",
       "                                                tags  \n",
       "0  ['good_quality_picture', 'good_quality_thumbna...  \n",
       "1  ['good_quality_picture', 'good_quality_thumbna...  \n",
       "2  ['good_quality_picture', 'good_quality_thumbna...  "
      ]
     },
     "execution_count": 45,
     "metadata": {},
     "output_type": "execute_result"
    }
   ],
   "source": [
    "raw_datav3.head(3)"
   ]
  },
  {
   "cell_type": "code",
   "execution_count": 46,
   "id": "annoying-future",
   "metadata": {},
   "outputs": [],
   "source": [
    "# Get the stacked list of tags and the tags freq dict\n",
    "stacked_tags,tags_freq = tags_extractor(raw_datav3['tags'])"
   ]
  },
  {
   "cell_type": "code",
   "execution_count": 47,
   "id": "infinite-oxford",
   "metadata": {},
   "outputs": [],
   "source": [
    "raw_datav4= raw_datav3.copy(deep=True)"
   ]
  },
  {
   "cell_type": "code",
   "execution_count": 48,
   "id": "unexpected-ranking",
   "metadata": {},
   "outputs": [
    {
     "name": "stdout",
     "output_type": "stream",
     "text": [
      "Execution time in seconds:  109.88\n"
     ]
    }
   ],
   "source": [
    "start = time.time()\n",
    "data_tag_filled = add_tags_fields(raw_datav4,stacked_tags,tags_freq)\n",
    "end= time.time()\n",
    "print('Execution time in seconds: ', round(end-start,2))"
   ]
  },
  {
   "cell_type": "code",
   "execution_count": 49,
   "id": "heavy-thought",
   "metadata": {},
   "outputs": [],
   "source": [
    "# take a copy of the cleaner data before create the discount percentage field\n",
    "data = data_tag_filled.copy(deep=True)"
   ]
  },
  {
   "cell_type": "markdown",
   "id": "exotic-preview",
   "metadata": {},
   "source": [
    "### Discount percentage Column\n",
    "\n",
    "Some products exhibit some \"*discount*\" in their price, so from the customer point of view the knowledge of the \"*discount percentage*\" could be important to encourage  to put more attention to the offer. "
   ]
  },
  {
   "cell_type": "code",
   "execution_count": 50,
   "id": "patient-haiti",
   "metadata": {},
   "outputs": [],
   "source": [
    "data['discount_percentage'] = np.round((1- data['price']/data['original_price'])*100, decimals=2)"
   ]
  },
  {
   "cell_type": "code",
   "execution_count": 51,
   "id": "adequate-portugal",
   "metadata": {},
   "outputs": [],
   "source": [
    "columns = ['post_id','user_id','country','city','category_name','product','available_quantity', 'sold_quantity',\n",
    "       'good_quality_picture', 'immediate_payment', 'good_quality_thumbnail',\n",
    "       'cart_eligible', 'shipping_guaranteed', 'dragged_bids_and_visits',\n",
    "       'brand_verified', 'loyalty_discount_eligible', 'poor_quality_picture',\n",
    "       'best_seller_candidate', 'incomplete_technical_specs', 'dragged_visits',\n",
    "       'poor_quality_thumbnail', 'extended_warranty_eligible', 'free_relist',\n",
    "       'ahora', 'catalog_product_candidate', 'only_html_description',\n",
    "       'catalog_listing_eligible', 'cbt_item', 'under_infractions',\n",
    "       '3x_campaign', 'deal_of_the_day', 'unknown_quality_picture',\n",
    "       'catalog_boost']\n",
    "\n",
    "convert_to =['category']\n",
    "\n",
    "# change the dtype of a list of columns\n",
    "data = convert_column_dtype(data,columns,convert_to)"
   ]
  },
  {
   "cell_type": "code",
   "execution_count": 28,
   "id": "boolean-battery",
   "metadata": {},
   "outputs": [],
   "source": [
    "# save the file\n",
    "#data.to_csv(r'..\\..\\data\\02_intermediate\\meli.csv')"
   ]
  },
  {
   "cell_type": "code",
   "execution_count": null,
   "id": "located-record",
   "metadata": {},
   "outputs": [],
   "source": []
  }
 ],
 "metadata": {
  "kernelspec": {
   "display_name": "meli(python3.7)",
   "language": "python",
   "name": "meli"
  },
  "language_info": {
   "codemirror_mode": {
    "name": "ipython",
    "version": 3
   },
   "file_extension": ".py",
   "mimetype": "text/x-python",
   "name": "python",
   "nbconvert_exporter": "python",
   "pygments_lexer": "ipython3",
   "version": "3.8.5"
  }
 },
 "nbformat": 4,
 "nbformat_minor": 5
}
