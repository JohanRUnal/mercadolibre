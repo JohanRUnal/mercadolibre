{
 "cells": [
  {
   "cell_type": "code",
   "execution_count": 35,
   "id": "human-impression",
   "metadata": {},
   "outputs": [
    {
     "data": {
      "text/plain": [
       "'C:\\\\Users\\\\JohanR\\\\Documents\\\\proyectos\\\\mercadolibre\\\\notebooks\\\\01_exploration'"
      ]
     },
     "execution_count": 35,
     "metadata": {},
     "output_type": "execute_result"
    }
   ],
   "source": [
    "import os\n",
    "\n",
    "os.getcwd()"
   ]
  },
  {
   "cell_type": "code",
   "execution_count": 37,
   "id": "presidential-episode",
   "metadata": {},
   "outputs": [],
   "source": [
    "import sys"
   ]
  },
  {
   "cell_type": "code",
   "execution_count": 38,
   "id": "developmental-update",
   "metadata": {},
   "outputs": [
    {
     "data": {
      "text/plain": [
       "['C:\\\\Users\\\\JohanR\\\\Documents\\\\proyectos\\\\mercadolibre\\\\notebooks\\\\01_exploration',\n",
       " 'C:\\\\Users\\\\JohanR\\\\miniconda3\\\\python38.zip',\n",
       " 'C:\\\\Users\\\\JohanR\\\\miniconda3\\\\DLLs',\n",
       " 'C:\\\\Users\\\\JohanR\\\\miniconda3\\\\lib',\n",
       " 'C:\\\\Users\\\\JohanR\\\\miniconda3',\n",
       " 'c:\\\\users\\\\johanr\\\\documents\\\\proyectos\\\\mercadolibre\\\\meli',\n",
       " '',\n",
       " 'c:\\\\users\\\\johanr\\\\documents\\\\proyectos\\\\mercadolibre\\\\meli\\\\lib\\\\site-packages',\n",
       " 'c:\\\\users\\\\johanr\\\\documents\\\\proyectos\\\\mercadolibre\\\\meli\\\\lib\\\\site-packages\\\\win32',\n",
       " 'c:\\\\users\\\\johanr\\\\documents\\\\proyectos\\\\mercadolibre\\\\meli\\\\lib\\\\site-packages\\\\win32\\\\lib',\n",
       " 'c:\\\\users\\\\johanr\\\\documents\\\\proyectos\\\\mercadolibre\\\\meli\\\\lib\\\\site-packages\\\\Pythonwin',\n",
       " 'c:\\\\users\\\\johanr\\\\documents\\\\proyectos\\\\mercadolibre\\\\meli\\\\lib\\\\site-packages\\\\IPython\\\\extensions',\n",
       " 'C:\\\\Users\\\\JohanR\\\\.ipython',\n",
       " '../..',\n",
       " '../..',\n",
       " '../..',\n",
       " './..']"
      ]
     },
     "execution_count": 38,
     "metadata": {},
     "output_type": "execute_result"
    }
   ],
   "source": [
    "sys.path"
   ]
  },
  {
   "cell_type": "code",
   "execution_count": 36,
   "id": "electrical-rough",
   "metadata": {},
   "outputs": [],
   "source": [
    "sys.path.append('./..')"
   ]
  },
  {
   "cell_type": "code",
   "execution_count": null,
   "id": "bulgarian-kruger",
   "metadata": {},
   "outputs": [],
   "source": []
  },
  {
   "cell_type": "code",
   "execution_count": 40,
   "id": "liberal-commission",
   "metadata": {},
   "outputs": [],
   "source": [
    "from config import *"
   ]
  },
  {
   "cell_type": "code",
   "execution_count": null,
   "id": "floating-liverpool",
   "metadata": {},
   "outputs": [],
   "source": []
  }
 ],
 "metadata": {
  "kernelspec": {
   "display_name": "meli(python3.7)",
   "language": "python",
   "name": "meli"
  },
  "language_info": {
   "codemirror_mode": {
    "name": "ipython",
    "version": 3
   },
   "file_extension": ".py",
   "mimetype": "text/x-python",
   "name": "python",
   "nbconvert_exporter": "python",
   "pygments_lexer": "ipython3",
   "version": "3.8.5"
  }
 },
 "nbformat": 4,
 "nbformat_minor": 5
}
